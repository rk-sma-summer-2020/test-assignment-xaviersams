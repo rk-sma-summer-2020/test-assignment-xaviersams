{
 "cells": [
  {
   "cell_type": "markdown",
   "metadata": {},
   "source": [
    "\n",
    "\n",
    "1. Install tweepy in your laptop.\n"
   ]
  },
  {
   "cell_type": "code",
   "execution_count": 1,
   "metadata": {},
   "outputs": [],
   "source": [
    "import tweepy"
   ]
  },
  {
   "cell_type": "code",
   "execution_count": 2,
   "metadata": {},
   "outputs": [],
   "source": [
    "import twitter"
   ]
  },
  {
   "cell_type": "markdown",
   "metadata": {},
   "source": [
    "2. Signup your twitter account and obtain the following keys.\n",
    "\n"
   ]
  },
  {
   "cell_type": "code",
   "execution_count": 3,
   "metadata": {},
   "outputs": [
    {
     "name": "stdout",
     "output_type": "stream",
     "text": [
      "<twitter.api.Twitter object at 0x0000028A7A243DD8>\n"
     ]
    }
   ],
   "source": [
    "CONSUMER_KEY = 'F2VQYm5ApZA7XKVicYO6DqIaI'\n",
    "CONSUMER_SECRET = 'Uz53l098xRNm7NhOvMtQggxL1eFfwF03FqludZEvylx4qthBT3'\n",
    "OAUTH_TOKEN = '4052772012-Oj58Z4TdduCHCquuJBywhPCkhxvjoOXvqrb2eq9'\n",
    "OAUTH_TOKEN_SECRET = '1EIaiShKPKgia4CRrxvWlcuqJU61ETphsL1BQ5IfKDcG0'\n",
    "\n",
    "\n",
    "auth = twitter.oauth.OAuth(OAUTH_TOKEN, OAUTH_TOKEN_SECRET,\n",
    "                           CONSUMER_KEY, CONSUMER_SECRET)\n",
    "\n",
    "twitter_api = twitter.Twitter(auth=auth)\n",
    "\n",
    "# Nothing to see by displaying twitter_api except that it's now a\n",
    "# defined variable\n",
    "\n",
    "print(twitter_api)"
   ]
  },
  {
   "cell_type": "code",
   "execution_count": 4,
   "metadata": {},
   "outputs": [
    {
     "name": "stdout",
     "output_type": "stream",
     "text": [
      "[{'trends': [{'name': '#ForeverWithMarkTuanDay', 'url': 'http://twitter.com/search?q=%23ForeverWithMarkTuanDay', 'promoted_content': None, 'query': '%23ForeverWithMarkTuanDay', 'tweet_volume': 501829}, {'name': 'Steve Nash', 'url': 'http://twitter.com/search?q=%22Steve+Nash%22', 'promoted_content': None, 'query': '%22Steve+Nash%22', 'tweet_volume': 103177}, {'name': 'Nintendo', 'url': 'http://twitter.com/search?q=Nintendo', 'promoted_content': None, 'query': 'Nintendo', 'tweet_volume': 317294}, {'name': 'Mario', 'url': 'http://twitter.com/search?q=Mario', 'promoted_content': None, 'query': 'Mario', 'tweet_volume': 460068}, {'name': '#PitMad', 'url': 'http://twitter.com/search?q=%23PitMad', 'promoted_content': None, 'query': '%23PitMad', 'tweet_volume': 223704}, {'name': 'Switch', 'url': 'http://twitter.com/search?q=Switch', 'promoted_content': None, 'query': 'Switch', 'tweet_volume': 349494}, {'name': '#RBDnoSpotify', 'url': 'http://twitter.com/search?q=%23RBDnoSpotify', 'promoted_content': None, 'query': '%23RBDnoSpotify', 'tweet_volume': 42079}, {'name': 'Galaxy 2', 'url': 'http://twitter.com/search?q=%22Galaxy+2%22', 'promoted_content': None, 'query': '%22Galaxy+2%22', 'tweet_volume': 22469}, {'name': '#AcademicFreezeNOW', 'url': 'http://twitter.com/search?q=%23AcademicFreezeNOW', 'promoted_content': None, 'query': '%23AcademicFreezeNOW', 'tweet_volume': 97093}, {'name': '#CantGagSSRCoverage', 'url': 'http://twitter.com/search?q=%23CantGagSSRCoverage', 'promoted_content': None, 'query': '%23CantGagSSRCoverage', 'tweet_volume': 96627}, {'name': 'Sunshine', 'url': 'http://twitter.com/search?q=Sunshine', 'promoted_content': None, 'query': 'Sunshine', 'tweet_volume': 142506}, {'name': 'David Graeber', 'url': 'http://twitter.com/search?q=%22David+Graeber%22', 'promoted_content': None, 'query': '%22David+Graeber%22', 'tweet_volume': 32747}, {'name': 'CONGRATS LIAM AND MAYA', 'url': 'http://twitter.com/search?q=%22CONGRATS+LIAM+AND+MAYA%22', 'promoted_content': None, 'query': '%22CONGRATS+LIAM+AND+MAYA%22', 'tweet_volume': 40822}, {'name': 'Scottie', 'url': 'http://twitter.com/search?q=Scottie', 'promoted_content': None, 'query': 'Scottie', 'tweet_volume': None}, {'name': 'Mumbai', 'url': 'http://twitter.com/search?q=Mumbai', 'promoted_content': None, 'query': 'Mumbai', 'tweet_volume': 256297}, {'name': 'STREAM DYNAMITE', 'url': 'http://twitter.com/search?q=%22STREAM+DYNAMITE%22', 'promoted_content': None, 'query': '%22STREAM+DYNAMITE%22', 'tweet_volume': 55328}, {'name': 'Josh Gordon', 'url': 'http://twitter.com/search?q=%22Josh+Gordon%22', 'promoted_content': None, 'query': '%22Josh+Gordon%22', 'tweet_volume': None}, {'name': 'Rosen', 'url': 'http://twitter.com/search?q=Rosen', 'promoted_content': None, 'query': 'Rosen', 'tweet_volume': None}, {'name': '3D World', 'url': 'http://twitter.com/search?q=%223D+World%22', 'promoted_content': None, 'query': '%223D+World%22', 'tweet_volume': 25833}, {'name': 'youngjae', 'url': 'http://twitter.com/search?q=youngjae', 'promoted_content': None, 'query': 'youngjae', 'tweet_volume': 81304}, {'name': 'Ted Cruz', 'url': 'http://twitter.com/search?q=%22Ted+Cruz%22', 'promoted_content': None, 'query': '%22Ted+Cruz%22', 'tweet_volume': 42618}, {'name': 'ギャラクシー', 'url': 'http://twitter.com/search?q=%E3%82%AE%E3%83%A3%E3%83%A9%E3%82%AF%E3%82%B7%E3%83%BC', 'promoted_content': None, 'query': '%E3%82%AE%E3%83%A3%E3%83%A9%E3%82%AF%E3%82%B7%E3%83%BC', 'tweet_volume': 74283}, {'name': 'YoklamaVe BakayaBedeliAfı', 'url': 'http://twitter.com/search?q=%22YoklamaVe+BakayaBedeliAf%C4%B1%22', 'promoted_content': None, 'query': '%22YoklamaVe+BakayaBedeliAf%C4%B1%22', 'tweet_volume': None}, {'name': '#Covid_19', 'url': 'http://twitter.com/search?q=%23Covid_19', 'promoted_content': None, 'query': '%23Covid_19', 'tweet_volume': 95105}, {'name': '#STREAMSFORYOONGI', 'url': 'http://twitter.com/search?q=%23STREAMSFORYOONGI', 'promoted_content': None, 'query': '%23STREAMSFORYOONGI', 'tweet_volume': 11924}, {'name': '#9YearsWithKathNiel', 'url': 'http://twitter.com/search?q=%239YearsWithKathNiel', 'promoted_content': None, 'query': '%239YearsWithKathNiel', 'tweet_volume': None}, {'name': '#FelizJueves', 'url': 'http://twitter.com/search?q=%23FelizJueves', 'promoted_content': None, 'query': '%23FelizJueves', 'tweet_volume': 33749}, {'name': '#KanganaPagalHai', 'url': 'http://twitter.com/search?q=%23KanganaPagalHai', 'promoted_content': None, 'query': '%23KanganaPagalHai', 'tweet_volume': 21838}, {'name': '#आमचीमुंबई', 'url': 'http://twitter.com/search?q=%23%E0%A4%86%E0%A4%AE%E0%A4%9A%E0%A5%80%E0%A4%AE%E0%A5%81%E0%A4%82%E0%A4%AC%E0%A4%88', 'promoted_content': None, 'query': '%23%E0%A4%86%E0%A4%AE%E0%A4%9A%E0%A5%80%E0%A4%AE%E0%A5%81%E0%A4%82%E0%A4%AC%E0%A4%88', 'tweet_volume': 18304}, {'name': '#ShameOnSanjayRaut', 'url': 'http://twitter.com/search?q=%23ShameOnSanjayRaut', 'promoted_content': None, 'query': '%23ShameOnSanjayRaut', 'tweet_volume': 185402}, {'name': '#あなたを漢字1文字で表現すると', 'url': 'http://twitter.com/search?q=%23%E3%81%82%E3%81%AA%E3%81%9F%E3%82%92%E6%BC%A2%E5%AD%971%E6%96%87%E5%AD%97%E3%81%A7%E8%A1%A8%E7%8F%BE%E3%81%99%E3%82%8B%E3%81%A8', 'promoted_content': None, 'query': '%23%E3%81%82%E3%81%AA%E3%81%9F%E3%82%92%E6%BC%A2%E5%AD%971%E6%96%87%E5%AD%97%E3%81%A7%E8%A1%A8%E7%8F%BE%E3%81%99%E3%82%8B%E3%81%A8', 'tweet_volume': 101600}, {'name': '#MocioFCB', 'url': 'http://twitter.com/search?q=%23MocioFCB', 'promoted_content': None, 'query': '%23MocioFCB', 'tweet_volume': 15681}, {'name': '#EndMaddenMonopoly', 'url': 'http://twitter.com/search?q=%23EndMaddenMonopoly', 'promoted_content': None, 'query': '%23EndMaddenMonopoly', 'tweet_volume': None}, {'name': '#TarikatveCemaatlerKapatılsın', 'url': 'http://twitter.com/search?q=%23TarikatveCemaatlerKapat%C4%B1ls%C4%B1n', 'promoted_content': None, 'query': '%23TarikatveCemaatlerKapat%C4%B1ls%C4%B1n', 'tweet_volume': None}, {'name': '#oregairu', 'url': 'http://twitter.com/search?q=%23oregairu', 'promoted_content': None, 'query': '%23oregairu', 'tweet_volume': 14302}, {'name': '#QuimiosYa', 'url': 'http://twitter.com/search?q=%23QuimiosYa', 'promoted_content': None, 'query': '%23QuimiosYa', 'tweet_volume': 49557}, {'name': '#せふほで本性が分かる見た人強制', 'url': 'http://twitter.com/search?q=%23%E3%81%9B%E3%81%B5%E3%81%BB%E3%81%A7%E6%9C%AC%E6%80%A7%E3%81%8C%E5%88%86%E3%81%8B%E3%82%8B%E8%A6%8B%E3%81%9F%E4%BA%BA%E5%BC%B7%E5%88%B6', 'promoted_content': None, 'query': '%23%E3%81%9B%E3%81%B5%E3%81%BB%E3%81%A7%E6%9C%AC%E6%80%A7%E3%81%8C%E5%88%86%E3%81%8B%E3%82%8B%E8%A6%8B%E3%81%9F%E4%BA%BA%E5%BC%B7%E5%88%B6', 'tweet_volume': None}, {'name': '#I_just_WONHO_you', 'url': 'http://twitter.com/search?q=%23I_just_WONHO_you', 'promoted_content': None, 'query': '%23I_just_WONHO_you', 'tweet_volume': 30815}, {'name': '#YeniHayat', 'url': 'http://twitter.com/search?q=%23YeniHayat', 'promoted_content': None, 'query': '%23YeniHayat', 'tweet_volume': None}, {'name': '#おじカワ', 'url': 'http://twitter.com/search?q=%23%E3%81%8A%E3%81%98%E3%82%AB%E3%83%AF', 'promoted_content': None, 'query': '%23%E3%81%8A%E3%81%98%E3%82%AB%E3%83%AF', 'tweet_volume': 33096}, {'name': '#ANITWTSELFIEDAY', 'url': 'http://twitter.com/search?q=%23ANITWTSELFIEDAY', 'promoted_content': None, 'query': '%23ANITWTSELFIEDAY', 'tweet_volume': None}, {'name': '#meganebiiki', 'url': 'http://twitter.com/search?q=%23meganebiiki', 'promoted_content': None, 'query': '%23meganebiiki', 'tweet_volume': None}, {'name': '#長濱ねる生誕祭', 'url': 'http://twitter.com/search?q=%23%E9%95%B7%E6%BF%B1%E3%81%AD%E3%82%8B%E7%94%9F%E8%AA%95%E7%A5%AD', 'promoted_content': None, 'query': '%23%E9%95%B7%E6%BF%B1%E3%81%AD%E3%82%8B%E7%94%9F%E8%AA%95%E7%A5%AD', 'tweet_volume': None}, {'name': '#モモコグミカンパニー創業祭2020', 'url': 'http://twitter.com/search?q=%23%E3%83%A2%E3%83%A2%E3%82%B3%E3%82%B0%E3%83%9F%E3%82%AB%E3%83%B3%E3%83%91%E3%83%8B%E3%83%BC%E5%89%B5%E6%A5%AD%E7%A5%AD2020', 'promoted_content': None, 'query': '%23%E3%83%A2%E3%83%A2%E3%82%B3%E3%82%B0%E3%83%9F%E3%82%AB%E3%83%B3%E3%83%91%E3%83%8B%E3%83%BC%E5%89%B5%E6%A5%AD%E7%A5%AD2020', 'tweet_volume': None}, {'name': '#ThursdayThoughts', 'url': 'http://twitter.com/search?q=%23ThursdayThoughts', 'promoted_content': None, 'query': '%23ThursdayThoughts', 'tweet_volume': 119026}, {'name': '#사랑의_동의어_원호', 'url': 'http://twitter.com/search?q=%23%EC%82%AC%EB%9E%91%EC%9D%98_%EB%8F%99%EC%9D%98%EC%96%B4_%EC%9B%90%ED%98%B8', 'promoted_content': None, 'query': '%23%EC%82%AC%EB%9E%91%EC%9D%98_%EB%8F%99%EC%9D%98%EC%96%B4_%EC%9B%90%ED%98%B8', 'tweet_volume': 30590}, {'name': '#VenezuelaAElecciones', 'url': 'http://twitter.com/search?q=%23VenezuelaAElecciones', 'promoted_content': None, 'query': '%23VenezuelaAElecciones', 'tweet_volume': 141200}, {'name': '#NoTimeToDie', 'url': 'http://twitter.com/search?q=%23NoTimeToDie', 'promoted_content': None, 'query': '%23NoTimeToDie', 'tweet_volume': 40025}, {'name': '#アメトーーク', 'url': 'http://twitter.com/search?q=%23%E3%82%A2%E3%83%A1%E3%83%88%E3%83%BC%E3%83%BC%E3%82%AF', 'promoted_content': None, 'query': '%23%E3%82%A2%E3%83%A1%E3%83%88%E3%83%BC%E3%83%BC%E3%82%AF', 'tweet_volume': 14786}, {'name': '#FreeMuriqi', 'url': 'http://twitter.com/search?q=%23FreeMuriqi', 'promoted_content': None, 'query': '%23FreeMuriqi', 'tweet_volume': None}], 'as_of': '2020-09-03T17:32:31Z', 'created_at': '2020-09-03T17:27:30Z', 'locations': [{'name': 'Worldwide', 'woeid': 1}]}]\n",
      "\n",
      "[{'trends': [{'name': 'Steve Nash', 'url': 'http://twitter.com/search?q=%22Steve+Nash%22', 'promoted_content': None, 'query': '%22Steve+Nash%22', 'tweet_volume': 103177}, {'name': '#PitMad', 'url': 'http://twitter.com/search?q=%23PitMad', 'promoted_content': None, 'query': '%23PitMad', 'tweet_volume': 223704}, {'name': 'Mario', 'url': 'http://twitter.com/search?q=Mario', 'promoted_content': None, 'query': 'Mario', 'tweet_volume': 460068}, {'name': 'Kyrie', 'url': 'http://twitter.com/search?q=Kyrie', 'promoted_content': None, 'query': 'Kyrie', 'tweet_volume': 28783}, {'name': 'Sunshine', 'url': 'http://twitter.com/search?q=Sunshine', 'promoted_content': None, 'query': 'Sunshine', 'tweet_volume': 142506}, {'name': 'Scottie', 'url': 'http://twitter.com/search?q=Scottie', 'promoted_content': None, 'query': 'Scottie', 'tweet_volume': None}, {'name': 'Mark Jackson', 'url': 'http://twitter.com/search?q=%22Mark+Jackson%22', 'promoted_content': None, 'query': '%22Mark+Jackson%22', 'tweet_volume': 12168}, {'name': '#ForeverWithMarkTuanDay', 'url': 'http://twitter.com/search?q=%23ForeverWithMarkTuanDay', 'promoted_content': None, 'query': '%23ForeverWithMarkTuanDay', 'tweet_volume': 501829}, {'name': 'Josh Gordon', 'url': 'http://twitter.com/search?q=%22Josh+Gordon%22', 'promoted_content': None, 'query': '%22Josh+Gordon%22', 'tweet_volume': None}, {'name': '#ThursdayThoughts', 'url': 'http://twitter.com/search?q=%23ThursdayThoughts', 'promoted_content': None, 'query': '%23ThursdayThoughts', 'tweet_volume': 119026}, {'name': 'Rosen', 'url': 'http://twitter.com/search?q=Rosen', 'promoted_content': None, 'query': 'Rosen', 'tweet_volume': None}, {'name': '#EndMaddenMonopoly', 'url': 'http://twitter.com/search?q=%23EndMaddenMonopoly', 'promoted_content': None, 'query': '%23EndMaddenMonopoly', 'tweet_volume': None}, {'name': 'Jason Kidd', 'url': 'http://twitter.com/search?q=%22Jason+Kidd%22', 'promoted_content': None, 'query': '%22Jason+Kidd%22', 'tweet_volume': None}, {'name': 'Ted Cruz', 'url': 'http://twitter.com/search?q=%22Ted+Cruz%22', 'promoted_content': None, 'query': '%22Ted+Cruz%22', 'tweet_volume': 42618}, {'name': 'David Graeber', 'url': 'http://twitter.com/search?q=%22David+Graeber%22', 'promoted_content': None, 'query': '%22David+Graeber%22', 'tweet_volume': 32747}, {'name': '#Covid_19', 'url': 'http://twitter.com/search?q=%23Covid_19', 'promoted_content': None, 'query': '%23Covid_19', 'tweet_volume': 95105}, {'name': 'Cuomo', 'url': 'http://twitter.com/search?q=Cuomo', 'promoted_content': None, 'query': 'Cuomo', 'tweet_volume': 262488}, {'name': 'Pippen', 'url': 'http://twitter.com/search?q=Pippen', 'promoted_content': None, 'query': 'Pippen', 'tweet_volume': 10777}, {'name': 'Jacque Vaughn', 'url': 'http://twitter.com/search?q=%22Jacque+Vaughn%22', 'promoted_content': None, 'query': '%22Jacque+Vaughn%22', 'tweet_volume': None}, {'name': 'Stephen A', 'url': 'http://twitter.com/search?q=%22Stephen+A%22', 'promoted_content': None, 'query': '%22Stephen+A%22', 'tweet_volume': None}, {'name': 'Labor Day', 'url': 'http://twitter.com/search?q=%22Labor+Day%22', 'promoted_content': None, 'query': '%22Labor+Day%22', 'tweet_volume': 38931}, {'name': 'Roberto Clemente', 'url': 'http://twitter.com/search?q=%22Roberto+Clemente%22', 'promoted_content': None, 'query': '%22Roberto+Clemente%22', 'tweet_volume': None}, {'name': 'Deon Kay', 'url': 'http://twitter.com/search?q=%22Deon+Kay%22', 'promoted_content': None, 'query': '%22Deon+Kay%22', 'tweet_volume': 32619}, {'name': 'FLINT', 'url': 'http://twitter.com/search?q=FLINT', 'promoted_content': None, 'query': 'FLINT', 'tweet_volume': 14455}, {'name': '#STREAMSFORYOONGI', 'url': 'http://twitter.com/search?q=%23STREAMSFORYOONGI', 'promoted_content': None, 'query': '%23STREAMSFORYOONGI', 'tweet_volume': 11924}, {'name': '#TrumpVirusDeathToll186K', 'url': 'http://twitter.com/search?q=%23TrumpVirusDeathToll186K', 'promoted_content': None, 'query': '%23TrumpVirusDeathToll186K', 'tweet_volume': None}, {'name': '#NoTimeToDie', 'url': 'http://twitter.com/search?q=%23NoTimeToDie', 'promoted_content': None, 'query': '%23NoTimeToDie', 'tweet_volume': 40025}], 'as_of': '2020-09-03T17:32:32Z', 'created_at': '2020-09-03T17:27:30Z', 'locations': [{'name': 'United States', 'woeid': 23424977}]}]\n"
     ]
    }
   ],
   "source": [
    "# The Yahoo! Where On Earth ID for the entire world is 1.\n",
    "# See https://dev.twitter.com/docs/api/1.1/get/trends/place and\n",
    "# http://developer.yahoo.com/geo/geoplanet/\n",
    "\n",
    "WORLD_WOE_ID = 1\n",
    "US_WOE_ID = 23424977\n",
    "\n",
    "# Prefix ID with the underscore for query string parameterization.\n",
    "# Without the underscore, the twitter package appends the ID value\n",
    "# to the URL itself as a special case keyword argument.\n",
    "\n",
    "world_trends = twitter_api.trends.place(_id=WORLD_WOE_ID)\n",
    "us_trends = twitter_api.trends.place(_id=US_WOE_ID)\n",
    "\n",
    "print(world_trends)\n",
    "print()\n",
    "print(us_trends)"
   ]
  },
  {
   "cell_type": "code",
   "execution_count": 5,
   "metadata": {},
   "outputs": [
    {
     "name": "stdout",
     "output_type": "stream",
     "text": [
      "#ForeverWithMarkTuanDay\n",
      "Steve Nash\n",
      "Nintendo\n",
      "Mario\n",
      "#PitMad\n",
      "Switch\n",
      "#RBDnoSpotify\n",
      "Galaxy 2\n",
      "#AcademicFreezeNOW\n",
      "#CantGagSSRCoverage\n",
      "Sunshine\n",
      "David Graeber\n",
      "CONGRATS LIAM AND MAYA\n",
      "Scottie\n",
      "Mumbai\n",
      "STREAM DYNAMITE\n",
      "Josh Gordon\n",
      "Rosen\n",
      "3D World\n",
      "youngjae\n",
      "Ted Cruz\n",
      "ギャラクシー\n",
      "YoklamaVe BakayaBedeliAfı\n",
      "#Covid_19\n",
      "#STREAMSFORYOONGI\n",
      "#9YearsWithKathNiel\n",
      "#FelizJueves\n",
      "#KanganaPagalHai\n",
      "#आमचीमुंबई\n",
      "#ShameOnSanjayRaut\n",
      "#あなたを漢字1文字で表現すると\n",
      "#MocioFCB\n",
      "#EndMaddenMonopoly\n",
      "#TarikatveCemaatlerKapatılsın\n",
      "#oregairu\n",
      "#QuimiosYa\n",
      "#せふほで本性が分かる見た人強制\n",
      "#I_just_WONHO_you\n",
      "#YeniHayat\n",
      "#おじカワ\n",
      "#ANITWTSELFIEDAY\n",
      "#meganebiiki\n",
      "#長濱ねる生誕祭\n",
      "#モモコグミカンパニー創業祭2020\n",
      "#ThursdayThoughts\n",
      "#사랑의_동의어_원호\n",
      "#VenezuelaAElecciones\n",
      "#NoTimeToDie\n",
      "#アメトーーク\n",
      "#FreeMuriqi\n"
     ]
    }
   ],
   "source": [
    "\n",
    "for trend in world_trends[0]['trends']:\n",
    "    print(trend['name'])"
   ]
  },
  {
   "cell_type": "code",
   "execution_count": 6,
   "metadata": {},
   "outputs": [
    {
     "name": "stdout",
     "output_type": "stream",
     "text": [
      "{'statuses': [{'created_at': 'Sun Aug 30 04:21:14 +0000 2020', 'id': 1299925119855259648, 'id_str': '1299925119855259648', 'text': 'Great insparative\\nIntiative\\nCreative\\nPositive thought of santhanna.\\n#GREEN_INDIA_CHALLENGE\\n@trspartyonline… https://t.co/FQwQmHG6IP', 'truncated': True, 'entities': {'hashtags': [{'text': 'GREEN_INDIA_CHALLENGE', 'indices': [68, 90]}], 'symbols': [], 'user_mentions': [{'screen_name': 'trspartyonline', 'name': 'TRS Party', 'id': 2375182790, 'id_str': '2375182790', 'indices': [91, 106]}], 'urls': [{'url': 'https://t.co/FQwQmHG6IP', 'expanded_url': 'https://twitter.com/i/web/status/1299925119855259648', 'display_url': 'twitter.com/i/web/status/1…', 'indices': [108, 131]}]}, 'metadata': {'iso_language_code': 'en', 'result_type': 'recent'}, 'source': '<a href=\"http://twitter.com/download/iphone\" rel=\"nofollow\">Twitter for iPhone</a>', 'in_reply_to_status_id': None, 'in_reply_to_status_id_str': None, 'in_reply_to_user_id': None, 'in_reply_to_user_id_str': None, 'in_reply_to_screen_name': None, 'user': {'id': 1038458366153162753, 'id_str': '1038458366153162753', 'name': 'Srikanth TRSV', 'screen_name': 'Srikanth_TRS1', 'location': 'Hyderabad, India', 'description': 'OU JAC FOUNDER, TRSV STATE VICE PRESIDENT.', 'url': None, 'entities': {'description': {'urls': []}}, 'protected': False, 'followers_count': 257, 'friends_count': 435, 'listed_count': 0, 'created_at': 'Sat Sep 08 16:05:42 +0000 2018', 'favourites_count': 143, 'utc_offset': None, 'time_zone': None, 'geo_enabled': False, 'verified': False, 'statuses_count': 303, 'lang': None, 'contributors_enabled': False, 'is_translator': False, 'is_translation_enabled': False, 'profile_background_color': 'F5F8FA', 'profile_background_image_url': None, 'profile_background_image_url_https': None, 'profile_background_tile': False, 'profile_image_url': 'http://pbs.twimg.com/profile_images/1089538251231297536/dle4zqoT_normal.jpg', 'profile_image_url_https': 'https://pbs.twimg.com/profile_images/1089538251231297536/dle4zqoT_normal.jpg', 'profile_banner_url': 'https://pbs.twimg.com/profile_banners/1038458366153162753/1537625735', 'profile_link_color': '1DA1F2', 'profile_sidebar_border_color': 'C0DEED', 'profile_sidebar_fill_color': 'DDEEF6', 'profile_text_color': '333333', 'profile_use_background_image': True, 'has_extended_profile': True, 'default_profile': True, 'default_profile_image': False, 'following': False, 'follow_request_sent': False, 'notifications': False, 'translator_type': 'none'}, 'geo': None, 'coordinates': None, 'place': None, 'contributors': None, 'is_quote_status': False, 'retweet_count': 0, 'favorite_count': 4, 'favorited': False, 'retweeted': False, 'possibly_sensitive': False, 'lang': 'en'}], 'search_metadata': {'completed_in': 0.03, 'max_id': 1299925119855259648, 'max_id_str': '1299925119855259648', 'next_results': '?max_id=1299925119855259647&q=%23Green_India_challenge&count=100&include_entities=1', 'query': '%23Green_India_challenge', 'refresh_url': '?since_id=1299925119855259648&q=%23Green_India_challenge&include_entities=1', 'count': 100, 'since_id': 0, 'since_id_str': '0'}}\n"
     ]
    }
   ],
   "source": [
    "trend_tweet='#Green_India_challenge'\n",
    "count=100\n",
    "search_result=twitter_api.search.tweets(q=trend_tweet,count=count)\n",
    "print(search_result)"
   ]
  },
  {
   "cell_type": "code",
   "execution_count": 8,
   "metadata": {},
   "outputs": [],
   "source": [
    "import json"
   ]
  },
  {
   "cell_type": "code",
   "execution_count": 9,
   "metadata": {},
   "outputs": [],
   "source": [
    "with open('json_data', 'w') as output_file:\n",
    "  load_data=json.dump(search_result,output_file,indent=1)"
   ]
  },
  {
   "cell_type": "code",
   "execution_count": null,
   "metadata": {},
   "outputs": [],
   "source": []
  }
 ],
 "metadata": {
  "kernelspec": {
   "display_name": "Python 3",
   "language": "python",
   "name": "python3"
  },
  "language_info": {
   "codemirror_mode": {
    "name": "ipython",
    "version": 3
   },
   "file_extension": ".py",
   "mimetype": "text/x-python",
   "name": "python",
   "nbconvert_exporter": "python",
   "pygments_lexer": "ipython3",
   "version": "3.7.1"
  }
 },
 "nbformat": 4,
 "nbformat_minor": 2
}
